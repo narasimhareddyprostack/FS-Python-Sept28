{
 "cells": [
  {
   "cell_type": "code",
   "execution_count": 2,
   "id": "cfc3570a",
   "metadata": {},
   "outputs": [
    {
     "name": "stdout",
     "output_type": "stream",
     "text": [
      "Enter Number20\n",
      "20\n"
     ]
    }
   ],
   "source": [
    "num1=input('Enter Number')\n",
    "\n",
    "print(num1)"
   ]
  },
  {
   "cell_type": "code",
   "execution_count": 4,
   "id": "8ea744fd",
   "metadata": {},
   "outputs": [
    {
     "name": "stdout",
     "output_type": "stream",
     "text": [
      "Enter Number56.78\n",
      "56.78\n",
      "<class 'str'>\n"
     ]
    }
   ],
   "source": [
    "num1=input('Enter Number')\n",
    "\n",
    "print(num1)\n",
    "print(type(num1))"
   ]
  },
  {
   "cell_type": "code",
   "execution_count": 6,
   "id": "db4efc9f",
   "metadata": {},
   "outputs": [
    {
     "name": "stdout",
     "output_type": "stream",
     "text": [
      "Enter First Number:1\n",
      "Enter Second Number:2\n",
      "Min Value is: 2\n"
     ]
    }
   ],
   "source": [
    "#read 2 numbers and print min and max value \n",
    "num1 = input(\"Enter First Number:\")\n",
    "num2 = input(\"Enter Second Number:\")\n",
    "\n",
    "if num1 > num2 :\n",
    "    print('Max Value is: ', num1)\n",
    "else:\n",
    "    print('Min Value is:',num2)"
   ]
  },
  {
   "cell_type": "code",
   "execution_count": 7,
   "id": "2547d396",
   "metadata": {},
   "outputs": [
    {
     "name": "stdout",
     "output_type": "stream",
     "text": [
      "Enter First Number:10\n",
      "Enter Second Number:5\n",
      "Max Value is:  10\n"
     ]
    }
   ],
   "source": [
    "#read 2 numbers and print min and max value \n",
    "num1 = int(input(\"Enter First Number:\"))\n",
    "num2 = int(input(\"Enter Second Number:\"))\n",
    "\n",
    "if num1 > num2 :\n",
    "    print('Max Value is: ', num1)\n",
    "else:\n",
    "    print('Min Value is:',num2)"
   ]
  },
  {
   "cell_type": "code",
   "execution_count": 8,
   "id": "0489caf6",
   "metadata": {},
   "outputs": [
    {
     "name": "stdout",
     "output_type": "stream",
     "text": [
      "Enter First Number:10\n",
      "Enter Second Number:20\n",
      "30\n"
     ]
    }
   ],
   "source": [
    "#read two form keyboard and print sum\n",
    "a = int(input(\"Enter First Number:\"))\n",
    "b = int(input(\"Enter Second Number:\"))\n",
    "\n",
    "print(a+b)"
   ]
  },
  {
   "cell_type": "code",
   "execution_count": 9,
   "id": "4f0c67d3",
   "metadata": {},
   "outputs": [
    {
     "name": "stdout",
     "output_type": "stream",
     "text": [
      "Enter First Number:10\n",
      "Enter Second Number20\n",
      "30\n"
     ]
    }
   ],
   "source": [
    "print(int(input(\"Enter First Number:\"))+int(input(\"Enter Second Number\")))\n"
   ]
  },
  {
   "cell_type": "code",
   "execution_count": 11,
   "id": "c850f12c",
   "metadata": {},
   "outputs": [
    {
     "name": "stdout",
     "output_type": "stream",
     "text": [
      "Enter First Number:100\n",
      "Enter Second Number200\n",
      "Sum:  300\n"
     ]
    }
   ],
   "source": [
    "print(\"Sum: \",int(input(\"Enter First Number:\"))+int(input(\"Enter Second Number\")))"
   ]
  },
  {
   "cell_type": "code",
   "execution_count": null,
   "id": "ecae1311",
   "metadata": {},
   "outputs": [],
   "source": []
  }
 ],
 "metadata": {
  "kernelspec": {
   "display_name": "Python 3 (ipykernel)",
   "language": "python",
   "name": "python3"
  },
  "language_info": {
   "codemirror_mode": {
    "name": "ipython",
    "version": 3
   },
   "file_extension": ".py",
   "mimetype": "text/x-python",
   "name": "python",
   "nbconvert_exporter": "python",
   "pygments_lexer": "ipython3",
   "version": "3.7.0"
  }
 },
 "nbformat": 4,
 "nbformat_minor": 5
}
