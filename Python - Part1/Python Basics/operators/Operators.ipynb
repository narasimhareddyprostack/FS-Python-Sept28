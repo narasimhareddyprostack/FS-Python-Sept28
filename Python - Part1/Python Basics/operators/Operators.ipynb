{
 "cells": [
  {
   "cell_type": "code",
   "execution_count": 1,
   "id": "8a407581",
   "metadata": {},
   "outputs": [
    {
     "name": "stdout",
     "output_type": "stream",
     "text": [
      "Nayana\n"
     ]
    }
   ],
   "source": [
    "# and  operator\n",
    "print(\"Rajni\" and \"Nayana\")"
   ]
  },
  {
   "cell_type": "code",
   "execution_count": 2,
   "id": "cea65cca",
   "metadata": {},
   "outputs": [
    {
     "name": "stdout",
     "output_type": "stream",
     "text": [
      "0\n"
     ]
    }
   ],
   "source": [
    "print(100 and 0)"
   ]
  },
  {
   "cell_type": "code",
   "execution_count": 3,
   "id": "9a102ecd",
   "metadata": {},
   "outputs": [
    {
     "name": "stdout",
     "output_type": "stream",
     "text": [
      "0\n"
     ]
    }
   ],
   "source": [
    "print(0 and 100)"
   ]
  },
  {
   "cell_type": "code",
   "execution_count": 4,
   "id": "6988f65f",
   "metadata": {},
   "outputs": [
    {
     "name": "stdout",
     "output_type": "stream",
     "text": [
      "True\n"
     ]
    }
   ],
   "source": [
    "print(True and True)"
   ]
  },
  {
   "cell_type": "code",
   "execution_count": 5,
   "id": "2e6dfb02",
   "metadata": {},
   "outputs": [
    {
     "name": "stdout",
     "output_type": "stream",
     "text": [
      "False\n"
     ]
    }
   ],
   "source": [
    "print(True and False)"
   ]
  },
  {
   "cell_type": "code",
   "execution_count": 6,
   "id": "1c055008",
   "metadata": {},
   "outputs": [
    {
     "name": "stdout",
     "output_type": "stream",
     "text": [
      "0\n"
     ]
    }
   ],
   "source": [
    "print(1 and 0)"
   ]
  },
  {
   "cell_type": "code",
   "execution_count": 7,
   "id": "ea30a705",
   "metadata": {},
   "outputs": [
    {
     "name": "stdout",
     "output_type": "stream",
     "text": [
      "Python\n"
     ]
    }
   ],
   "source": [
    "print(\"Java\" and \"Python\")"
   ]
  },
  {
   "cell_type": "code",
   "execution_count": 9,
   "id": "b8733ad1",
   "metadata": {},
   "outputs": [
    {
     "name": "stdout",
     "output_type": "stream",
     "text": [
      "False\n"
     ]
    }
   ],
   "source": [
    "a = 100 \n",
    "b = 100 \n",
    "print(a is not b)"
   ]
  },
  {
   "cell_type": "code",
   "execution_count": 10,
   "id": "f659b849",
   "metadata": {},
   "outputs": [
    {
     "name": "stdout",
     "output_type": "stream",
     "text": [
      "True\n",
      "True\n"
     ]
    }
   ],
   "source": [
    "a = 100 \n",
    "b = 100 \n",
    "print(a is b) # True\n",
    "print(a == b) # True\n",
    "\n"
   ]
  },
  {
   "cell_type": "code",
   "execution_count": 12,
   "id": "46e0b91f",
   "metadata": {},
   "outputs": [
    {
     "name": "stdout",
     "output_type": "stream",
     "text": [
      "False\n"
     ]
    }
   ],
   "source": [
    "enames=['rahul','sonia','priyanka']\n",
    "print('rahul' not in enames)\n"
   ]
  },
  {
   "cell_type": "code",
   "execution_count": 14,
   "id": "0ea5219d",
   "metadata": {},
   "outputs": [
    {
     "name": "stdout",
     "output_type": "stream",
     "text": [
      "True\n",
      "True\n",
      "True\n",
      "True\n",
      "True\n"
     ]
    }
   ],
   "source": [
    "l1 = [10,20,30,40]\n",
    "t1= (10,20,30,40)\n",
    "s1 = {10,20,30,40}\n",
    "d1 = {'id':101, 'name':'Rahul Gandhi'}\n",
    "str1 = \"Rahul\"\n",
    "\n",
    "print(10 in l1)  #True\n",
    "print(20 in t1)  #True\n",
    "print(30 in s1)  #True\n",
    "print('id' in d1) #True\n",
    "print('R' in str1) #True"
   ]
  },
  {
   "cell_type": "code",
   "execution_count": null,
   "id": "964d7d2b",
   "metadata": {},
   "outputs": [],
   "source": []
  }
 ],
 "metadata": {
  "kernelspec": {
   "display_name": "Python 3 (ipykernel)",
   "language": "python",
   "name": "python3"
  },
  "language_info": {
   "codemirror_mode": {
    "name": "ipython",
    "version": 3
   },
   "file_extension": ".py",
   "mimetype": "text/x-python",
   "name": "python",
   "nbconvert_exporter": "python",
   "pygments_lexer": "ipython3",
   "version": "3.7.0"
  }
 },
 "nbformat": 4,
 "nbformat_minor": 5
}
