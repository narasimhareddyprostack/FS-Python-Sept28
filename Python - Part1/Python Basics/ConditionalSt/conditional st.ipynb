{
 "cells": [
  {
   "cell_type": "code",
   "execution_count": 1,
   "id": "c8595098",
   "metadata": {},
   "outputs": [],
   "source": [
    "#if \n",
    "\n",
    "#if-else\n",
    "\n",
    "#if-elif-else\n",
    "\n",
    "#if-elif"
   ]
  },
  {
   "cell_type": "code",
   "execution_count": 3,
   "id": "2b709008",
   "metadata": {},
   "outputs": [
    {
     "name": "stdout",
     "output_type": "stream",
     "text": [
      "Not Eligible\n"
     ]
    }
   ],
   "source": [
    "sal = 15000\n",
    "if sal > 40000:\n",
    "    print(\"Eligible for Marrige\")\n",
    "else:\n",
    "    print(\"Not Eligible\")"
   ]
  },
  {
   "cell_type": "code",
   "execution_count": 4,
   "id": "75b0d27f",
   "metadata": {},
   "outputs": [
    {
     "name": "stdout",
     "output_type": "stream",
     "text": [
      "Enter Number100\n"
     ]
    }
   ],
   "source": [
    "#read number keyboard and print num even or odd\n",
    "\n",
    "num= int(input(\"Enter Number\"))\n",
    "\n",
    "if True:\n",
    "    pass\n",
    "else:\n",
    "    pass\n",
    "\n"
   ]
  },
  {
   "cell_type": "code",
   "execution_count": 6,
   "id": "6df1c226",
   "metadata": {},
   "outputs": [
    {
     "name": "stdout",
     "output_type": "stream",
     "text": [
      "Enter Number97\n",
      "Odd Number\n"
     ]
    }
   ],
   "source": [
    "#read number keyboard and print num even or odd\n",
    "\n",
    "num= int(input(\"Enter Number\"))\n",
    "\n",
    "if num % 2 ==0:\n",
    "    print('Number is Even Number')\n",
    "else:\n",
    "\n",
    "    print('Odd Number')"
   ]
  },
  {
   "cell_type": "code",
   "execution_count": 7,
   "id": "849cf526",
   "metadata": {},
   "outputs": [
    {
     "name": "stdout",
     "output_type": "stream",
     "text": [
      "Enter Number1\n"
     ]
    }
   ],
   "source": [
    "#0 - sunday \n",
    "#1 - Monday\n",
    "#2 - Tueday\n",
    "num = int(input(\"Enter Number\"))\n",
    "\n",
    "if True:\n",
    "    pass\n",
    "elif True:\n",
    "    pass\n",
    "elif True:\n",
    "    pass\n"
   ]
  },
  {
   "cell_type": "code",
   "execution_count": 12,
   "id": "df3a7ab7",
   "metadata": {},
   "outputs": [
    {
     "name": "stdout",
     "output_type": "stream",
     "text": [
      "Enter Number0\n",
      "Sunday\n"
     ]
    }
   ],
   "source": [
    "#0 - sunday \n",
    "#1 - Monday\n",
    "#2 - Tueday\n",
    "num = int(input(\"Enter Number\"))\n",
    "\n",
    "if num == 0:\n",
    "    print(\"Sunday\")\n",
    "elif num ==1:\n",
    "    print('Monday')\n",
    "elif num == 2:\n",
    "    print('Tueday')\n",
    "elif num ==3:\n",
    "    print(\"Wednesday\")\n",
    "elif num ==4:\n",
    "    print(\"Thursday\")\n",
    "elif num == 5:\n",
    "    print(\"Friday\")\n",
    "else:\n",
    "    print(\"Tomorrow is Saturday\")\n"
   ]
  },
  {
   "cell_type": "code",
   "execution_count": 15,
   "id": "c79e515e",
   "metadata": {},
   "outputs": [
    {
     "name": "stdout",
     "output_type": "stream",
     "text": [
      "Enter Number0\n",
      "Not a 3 Digit Number\n"
     ]
    }
   ],
   "source": [
    "#check given number is 3 digit on not\n",
    "num = int(input(\"Enter Number\"))\n",
    "\n",
    "if num>=100 and num<=999:\n",
    "    print(\"Yes! Number is 3 Digit Number:\")\n",
    "else:\n",
    "    print(\"Not a 3 Digit Number\")"
   ]
  },
  {
   "cell_type": "code",
   "execution_count": null,
   "id": "5468b2ce",
   "metadata": {},
   "outputs": [],
   "source": []
  }
 ],
 "metadata": {
  "kernelspec": {
   "display_name": "Python 3 (ipykernel)",
   "language": "python",
   "name": "python3"
  },
  "language_info": {
   "codemirror_mode": {
    "name": "ipython",
    "version": 3
   },
   "file_extension": ".py",
   "mimetype": "text/x-python",
   "name": "python",
   "nbconvert_exporter": "python",
   "pygments_lexer": "ipython3",
   "version": "3.7.0"
  }
 },
 "nbformat": 4,
 "nbformat_minor": 5
}
