{
 "cells": [
  {
   "cell_type": "code",
   "execution_count": 1,
   "id": "b4ef865b",
   "metadata": {},
   "outputs": [
    {
     "name": "stdout",
     "output_type": "stream",
     "text": [
      "[101, 102, 103, 104]\n",
      "['rahul', 'sonia', 'priyanka']\n"
     ]
    }
   ],
   "source": [
    "#list -read operation\n",
    "\n",
    "ids=[101,102,103,104]\n",
    "enames=['rahul','sonia','priyanka']\n",
    "\n",
    "#indexing is applicable\n",
    "\n",
    "#how to read list object\n",
    "print(ids)\n",
    "print(enames)"
   ]
  },
  {
   "cell_type": "code",
   "execution_count": 3,
   "id": "0c1db559",
   "metadata": {},
   "outputs": [
    {
     "name": "stdout",
     "output_type": "stream",
     "text": [
      "101\n",
      "102\n",
      "103\n",
      "104\n"
     ]
    }
   ],
   "source": [
    "#how to read list elements\n",
    "ids=[101,102,103,104]\n",
    "#index-0  1   2  3\n",
    "enames=['rahul','sonia','priyanka']\n",
    "#index    0      1          2 \n",
    "\n",
    "\n",
    "#ids[index]\n",
    "\n",
    "print(ids[0])\n",
    "print(ids[1])\n",
    "print(ids[2])\n",
    "print(ids[3])"
   ]
  },
  {
   "cell_type": "code",
   "execution_count": 4,
   "id": "40590259",
   "metadata": {},
   "outputs": [
    {
     "name": "stdout",
     "output_type": "stream",
     "text": [
      "rahul\n",
      "sonia\n",
      "priyanka\n"
     ]
    }
   ],
   "source": [
    "enames=['rahul','sonia','priyanka']\n",
    "#index    0      1          2 \n",
    "\n",
    "#how to read - list elements\n",
    "\n",
    "print(enames[0])\n",
    "print(enames[1])\n",
    "print(enames[2])"
   ]
  },
  {
   "cell_type": "code",
   "execution_count": 5,
   "id": "c6775b0a",
   "metadata": {},
   "outputs": [
    {
     "name": "stdout",
     "output_type": "stream",
     "text": [
      "rahul\n",
      "sonia\n",
      "priyanka\n"
     ]
    },
    {
     "ename": "IndexError",
     "evalue": "list index out of range",
     "output_type": "error",
     "traceback": [
      "\u001b[1;31m---------------------------------------------------------------------------\u001b[0m",
      "\u001b[1;31mIndexError\u001b[0m                                Traceback (most recent call last)",
      "\u001b[1;32m~\\AppData\\Local\\Temp\\ipykernel_5524\\997182242.py\u001b[0m in \u001b[0;36m<module>\u001b[1;34m\u001b[0m\n\u001b[0;32m      7\u001b[0m \u001b[0mprint\u001b[0m\u001b[1;33m(\u001b[0m\u001b[0menames\u001b[0m\u001b[1;33m[\u001b[0m\u001b[1;36m1\u001b[0m\u001b[1;33m]\u001b[0m\u001b[1;33m)\u001b[0m\u001b[1;33m\u001b[0m\u001b[0m\n\u001b[0;32m      8\u001b[0m \u001b[0mprint\u001b[0m\u001b[1;33m(\u001b[0m\u001b[0menames\u001b[0m\u001b[1;33m[\u001b[0m\u001b[1;36m2\u001b[0m\u001b[1;33m]\u001b[0m\u001b[1;33m)\u001b[0m\u001b[1;33m\u001b[0m\u001b[0m\n\u001b[1;32m----> 9\u001b[1;33m \u001b[0mprint\u001b[0m\u001b[1;33m(\u001b[0m\u001b[0menames\u001b[0m\u001b[1;33m[\u001b[0m\u001b[1;36m5\u001b[0m\u001b[1;33m]\u001b[0m\u001b[1;33m)\u001b[0m  \u001b[1;31m#index error\u001b[0m\u001b[1;33m\u001b[0m\u001b[0m\n\u001b[0m",
      "\u001b[1;31mIndexError\u001b[0m: list index out of range"
     ]
    }
   ],
   "source": [
    "enames=['rahul','sonia','priyanka']\n",
    "#index    0      1          2 \n",
    "\n",
    "#how to read - list elements\n",
    "\n",
    "print(enames[0])\n",
    "print(enames[1])\n",
    "print(enames[2])\n",
    "print(enames[5])  #list index out of range :IndexError\n"
   ]
  },
  {
   "cell_type": "code",
   "execution_count": 6,
   "id": "3f00109e",
   "metadata": {},
   "outputs": [
    {
     "name": "stdout",
     "output_type": "stream",
     "text": [
      "rahul\n",
      "amit\n"
     ]
    }
   ],
   "source": [
    "enames=['rahul','sonia','priyanka','modi','amit']\n",
    "# index  0      1            2        3    4\n",
    "\n",
    "\n",
    "print(enames[0]) #rahul\n",
    "print(enames[4]) #amith"
   ]
  },
  {
   "cell_type": "code",
   "execution_count": 7,
   "id": "954dce89",
   "metadata": {},
   "outputs": [
    {
     "name": "stdout",
     "output_type": "stream",
     "text": [
      "['rahul', 'sonia', 'priyanka', 'modi', 'amit']\n",
      "['rahul', 'sonia', 'priyanka', 'modi', 'amit']\n"
     ]
    }
   ],
   "source": [
    "#accessing list elements - using index\n",
    "#using slice operator\n",
    "\n",
    "enames=['rahul','sonia','priyanka','modi','amit']\n",
    "\n",
    "new_enames=enames[:]\n",
    "print(enames)\n",
    "print(new_enames)"
   ]
  },
  {
   "cell_type": "code",
   "execution_count": 8,
   "id": "27831ea2",
   "metadata": {},
   "outputs": [
    {
     "name": "stdout",
     "output_type": "stream",
     "text": [
      "rahul\n",
      "sonia\n",
      "priyanka\n",
      "modi\n",
      "amit\n"
     ]
    }
   ],
   "source": [
    "enames=['rahul','sonia','priyanka','modi','amit']\n",
    "\n",
    "for ename in enames:\n",
    "    print(ename)"
   ]
  },
  {
   "cell_type": "code",
   "execution_count": 9,
   "id": "4f6db307",
   "metadata": {},
   "outputs": [
    {
     "name": "stdout",
     "output_type": "stream",
     "text": [
      "rahul\n",
      "sonia\n",
      "priyanka\n",
      "modi\n",
      "amit\n"
     ]
    }
   ],
   "source": [
    "enames=['rahul','sonia','priyanka','modi','amit']\n",
    "#index    0        1           2    3        4\n",
    "\n",
    "i=0\n",
    "while i<=4:\n",
    "    print(enames[i])\n",
    "    i=i+1"
   ]
  },
  {
   "cell_type": "code",
   "execution_count": 10,
   "id": "aa27cb38",
   "metadata": {},
   "outputs": [
    {
     "name": "stdout",
     "output_type": "stream",
     "text": [
      "[101, 102, 103, 104]\n",
      "<class 'list'>\n"
     ]
    }
   ],
   "source": [
    "#iterating list object - using for and while loop\n",
    "\n",
    "ids =[101,102,103,104]\n",
    "print(ids)\n",
    "print(type(ids))"
   ]
  },
  {
   "cell_type": "code",
   "execution_count": 12,
   "id": "52e58582",
   "metadata": {},
   "outputs": [
    {
     "data": {
      "text/plain": [
       "4"
      ]
     },
     "execution_count": 12,
     "metadata": {},
     "output_type": "execute_result"
    }
   ],
   "source": [
    "ename = \"Priyanka\"\n",
    "emp = {'id':101, 'ename':'rahul'}\n",
    "ids=[101,102,103,104]\n",
    "len(ename)   #8\n",
    "len(emp)     #2\n",
    "len(ids)     #4"
   ]
  },
  {
   "cell_type": "code",
   "execution_count": 14,
   "id": "8bff2263",
   "metadata": {},
   "outputs": [
    {
     "name": "stdout",
     "output_type": "stream",
     "text": [
      "8\n",
      "2\n",
      "4\n"
     ]
    }
   ],
   "source": [
    "ename = \"Priyanka\"\n",
    "emp = {'id':101, 'ename':'rahul'}\n",
    "ids=[101,102,103,104]\n",
    "\n",
    "print(len(ename))\n",
    "print(len(emp))\n",
    "print(len(ids))"
   ]
  },
  {
   "cell_type": "code",
   "execution_count": null,
   "id": "5789a7be",
   "metadata": {},
   "outputs": [],
   "source": []
  }
 ],
 "metadata": {
  "kernelspec": {
   "display_name": "Python 3 (ipykernel)",
   "language": "python",
   "name": "python3"
  },
  "language_info": {
   "codemirror_mode": {
    "name": "ipython",
    "version": 3
   },
   "file_extension": ".py",
   "mimetype": "text/x-python",
   "name": "python",
   "nbconvert_exporter": "python",
   "pygments_lexer": "ipython3",
   "version": "3.7.0"
  }
 },
 "nbformat": 4,
 "nbformat_minor": 5
}
