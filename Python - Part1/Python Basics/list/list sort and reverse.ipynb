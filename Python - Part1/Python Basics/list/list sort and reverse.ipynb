{
 "cells": [
  {
   "cell_type": "code",
   "execution_count": 1,
   "id": "b3ad2b83",
   "metadata": {},
   "outputs": [
    {
     "name": "stdout",
     "output_type": "stream",
     "text": [
      "['priyanka', 'sonia', 'rahul']\n"
     ]
    }
   ],
   "source": [
    "enames=['rahul','sonia','priyanka']\n",
    "\n",
    "enames.reverse()\n",
    "print(enames)"
   ]
  },
  {
   "cell_type": "code",
   "execution_count": 2,
   "id": "97123f14",
   "metadata": {},
   "outputs": [
    {
     "name": "stdout",
     "output_type": "stream",
     "text": [
      "['amith', 'modi', 'nagaraj', 'priyanka', 'rahul', 'sonia']\n"
     ]
    }
   ],
   "source": [
    "enames=['rahul','sonia','priyanka', 'amith','modi','nagaraj']\n",
    "\n",
    "enames.sort()\n",
    "print(enames)"
   ]
  },
  {
   "cell_type": "code",
   "execution_count": 3,
   "id": "d6e3dc68",
   "metadata": {},
   "outputs": [],
   "source": [
    "#Default Natural sorting order\n",
    "\n",
    "#number  - asending ie 0 to 9 \n",
    "#alpah   - a to z "
   ]
  },
  {
   "cell_type": "code",
   "execution_count": 4,
   "id": "42fef8ec",
   "metadata": {},
   "outputs": [
    {
     "ename": "TypeError",
     "evalue": "'<' not supported between instances of 'str' and 'int'",
     "output_type": "error",
     "traceback": [
      "\u001b[1;31m---------------------------------------------------------------------------\u001b[0m",
      "\u001b[1;31mTypeError\u001b[0m                                 Traceback (most recent call last)",
      "\u001b[1;32m~\\AppData\\Local\\Temp\\ipykernel_22864\\2394896562.py\u001b[0m in \u001b[0;36m<module>\u001b[1;34m\u001b[0m\n\u001b[0;32m      2\u001b[0m \u001b[1;33m\u001b[0m\u001b[0m\n\u001b[0;32m      3\u001b[0m \u001b[1;33m\u001b[0m\u001b[0m\n\u001b[1;32m----> 4\u001b[1;33m \u001b[0mprint\u001b[0m\u001b[1;33m(\u001b[0m\u001b[0ml1\u001b[0m\u001b[1;33m.\u001b[0m\u001b[0msort\u001b[0m\u001b[1;33m(\u001b[0m\u001b[1;33m)\u001b[0m\u001b[1;33m)\u001b[0m\u001b[1;33m\u001b[0m\u001b[0m\n\u001b[0m",
      "\u001b[1;31mTypeError\u001b[0m: '<' not supported between instances of 'str' and 'int'"
     ]
    }
   ],
   "source": [
    "l1 = [110, 102, 'rahul', 'sonia']\n",
    "\n",
    "\n",
    "print(l1.sort())"
   ]
  },
  {
   "cell_type": "code",
   "execution_count": 5,
   "id": "f10d8908",
   "metadata": {},
   "outputs": [
    {
     "name": "stdout",
     "output_type": "stream",
     "text": [
      "['sonia', 'rahul', 'priyanka', 'nagaraj', 'modi', 'amith']\n"
     ]
    }
   ],
   "source": [
    "enames=['rahul','sonia','priyanka', 'amith','modi','nagaraj']\n",
    "\n",
    "#Natural sorting order - asending \n",
    "#descending order\n",
    "enames.sort(reverse=True)\n",
    "print(enames)"
   ]
  },
  {
   "cell_type": "code",
   "execution_count": 6,
   "id": "e004f9c6",
   "metadata": {},
   "outputs": [
    {
     "name": "stdout",
     "output_type": "stream",
     "text": [
      "[10, 20, 30, 40, 50, 60]\n"
     ]
    }
   ],
   "source": [
    "#how to concatinate list object  + \n",
    "#repetition operation            *\n",
    "\n",
    "\n",
    "l1= [10,20,30]\n",
    "l2= [40,50,60]\n",
    "\n",
    "l3 = l1+l2\n",
    "print(l3)"
   ]
  },
  {
   "cell_type": "code",
   "execution_count": 7,
   "id": "f59de2be",
   "metadata": {},
   "outputs": [
    {
     "ename": "TypeError",
     "evalue": "can only concatenate list (not \"int\") to list",
     "output_type": "error",
     "traceback": [
      "\u001b[1;31m---------------------------------------------------------------------------\u001b[0m",
      "\u001b[1;31mTypeError\u001b[0m                                 Traceback (most recent call last)",
      "\u001b[1;32m~\\AppData\\Local\\Temp\\ipykernel_22864\\2285005334.py\u001b[0m in \u001b[0;36m<module>\u001b[1;34m\u001b[0m\n\u001b[0;32m      3\u001b[0m \u001b[1;33m\u001b[0m\u001b[0m\n\u001b[0;32m      4\u001b[0m \u001b[1;33m\u001b[0m\u001b[0m\n\u001b[1;32m----> 5\u001b[1;33m \u001b[0ml3\u001b[0m \u001b[1;33m=\u001b[0m \u001b[0ml1\u001b[0m\u001b[1;33m+\u001b[0m\u001b[1;36m40\u001b[0m\u001b[1;33m\u001b[0m\u001b[0m\n\u001b[0m\u001b[0;32m      6\u001b[0m \u001b[0mprint\u001b[0m\u001b[1;33m(\u001b[0m\u001b[0ml3\u001b[0m\u001b[1;33m)\u001b[0m\u001b[1;33m\u001b[0m\u001b[0m\n",
      "\u001b[1;31mTypeError\u001b[0m: can only concatenate list (not \"int\") to list"
     ]
    }
   ],
   "source": [
    "l1= [10,20,30]\n",
    "l2= [40,50,60]\n",
    "\n",
    "\n",
    "l3 = l1+40\n",
    "print(l3)"
   ]
  },
  {
   "cell_type": "code",
   "execution_count": 9,
   "id": "210741d5",
   "metadata": {},
   "outputs": [
    {
     "name": "stdout",
     "output_type": "stream",
     "text": [
      "[10, 20, 30, 40, 10, 20, 30, 40, 10, 20, 30, 40]\n"
     ]
    }
   ],
   "source": [
    "l1= [10,20,30,40]\n",
    "l2 = l1 * 3\n",
    "\n",
    "print(l2)"
   ]
  },
  {
   "cell_type": "code",
   "execution_count": 10,
   "id": "8addc7bb",
   "metadata": {},
   "outputs": [],
   "source": [
    "#membership operator\n",
    "\n",
    "# in , not in \n",
    "\n",
    "# identitiy operators   === address comparision\n",
    "# is , is not "
   ]
  },
  {
   "cell_type": "code",
   "execution_count": 12,
   "id": "9ed19d44",
   "metadata": {},
   "outputs": [
    {
     "name": "stdout",
     "output_type": "stream",
     "text": [
      "False\n"
     ]
    }
   ],
   "source": [
    "enames=['rahul','sonia','priyanka', 'amith','modi','nagaraj']\n",
    "\n",
    "\n",
    "print('rahul' not in enames)"
   ]
  },
  {
   "cell_type": "code",
   "execution_count": 13,
   "id": "a793756b",
   "metadata": {},
   "outputs": [
    {
     "name": "stdout",
     "output_type": "stream",
     "text": [
      "(10, 10, 10)\n"
     ]
    }
   ],
   "source": [
    "t1= (10,10,10)\n",
    "print(t1)"
   ]
  },
  {
   "cell_type": "code",
   "execution_count": null,
   "id": "9218dff0",
   "metadata": {},
   "outputs": [],
   "source": []
  }
 ],
 "metadata": {
  "kernelspec": {
   "display_name": "Python 3 (ipykernel)",
   "language": "python",
   "name": "python3"
  },
  "language_info": {
   "codemirror_mode": {
    "name": "ipython",
    "version": 3
   },
   "file_extension": ".py",
   "mimetype": "text/x-python",
   "name": "python",
   "nbconvert_exporter": "python",
   "pygments_lexer": "ipython3",
   "version": "3.7.0"
  }
 },
 "nbformat": 4,
 "nbformat_minor": 5
}
