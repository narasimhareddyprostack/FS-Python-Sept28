{
 "cells": [
  {
   "cell_type": "code",
   "execution_count": 4,
   "id": "221fbda4",
   "metadata": {},
   "outputs": [
    {
     "name": "stdout",
     "output_type": "stream",
     "text": [
      "<class 'tuple'>\n"
     ]
    }
   ],
   "source": [
    "size1 = 38\n",
    "size2 = 40\n",
    "size3 = 42 \n",
    "\n",
    "size = 38,40,42\n",
    "print(type(size))\n"
   ]
  },
  {
   "cell_type": "code",
   "execution_count": 6,
   "id": "9f81fd1d",
   "metadata": {},
   "outputs": [
    {
     "name": "stdout",
     "output_type": "stream",
     "text": [
      "[10, 20.5, True, 'Rahul', None, [], (), {}]\n"
     ]
    }
   ],
   "source": [
    "sizes =[]\n",
    "#what is list?\n",
    "#group of elements as one entity, where allowed duplicates and hetrogenious.\n",
    "#dis similar elments\n",
    "\n",
    "l1 = [10,20.5, True, 'Rahul', None, [],(),{} ]\n",
    "print(l1)"
   ]
  },
  {
   "cell_type": "code",
   "execution_count": 7,
   "id": "68425dfc",
   "metadata": {},
   "outputs": [],
   "source": [
    "#insertion order preserved due to indexing\n",
    "#list is - mutable object/dynamic , increase size decrease size any time\n",
    "\n"
   ]
  },
  {
   "cell_type": "code",
   "execution_count": 8,
   "id": "c1141229",
   "metadata": {
    "scrolled": true
   },
   "outputs": [
    {
     "name": "stdout",
     "output_type": "stream",
     "text": [
      "Enter List[1,2,3,4]\n",
      "[]\n",
      "[10, 20, 30, 40]\n",
      "[1, 2, 3, 4]\n",
      "[0, 1, 2, 3, 4, 5, 6, 7, 8, 9]\n",
      "['Prostack', 'Academy']\n"
     ]
    }
   ],
   "source": [
    "l1 =[]\n",
    "l2 =[10,20,30,40]\n",
    "l3 =eval(input(\"Enter List\"))\n",
    "\n",
    "l4 = list(range(10))\n",
    "l5 = \"Prostack Academy\".split()\n",
    "print(l1)\n",
    "print(l2)\n",
    "print(l3)\n",
    "print(l4)\n",
    "print(l5)"
   ]
  },
  {
   "cell_type": "code",
   "execution_count": 9,
   "id": "72179196",
   "metadata": {},
   "outputs": [
    {
     "name": "stdout",
     "output_type": "stream",
     "text": [
      "Enter List[1,2,3]\n",
      "[]\n"
     ]
    }
   ],
   "source": [
    "l1 =[]\n",
    "l2 =[10,20,30,40]\n",
    "l3 =eval(input(\"Enter List\"))\n",
    "\n",
    "l4 = list(range(10))\n",
    "l5 = \"Prostack Academy\".split()\n",
    "\n",
    "\n",
    "print(l1)\n"
   ]
  },
  {
   "cell_type": "code",
   "execution_count": null,
   "id": "b69f4705",
   "metadata": {},
   "outputs": [],
   "source": []
  }
 ],
 "metadata": {
  "kernelspec": {
   "display_name": "Python 3 (ipykernel)",
   "language": "python",
   "name": "python3"
  },
  "language_info": {
   "codemirror_mode": {
    "name": "ipython",
    "version": 3
   },
   "file_extension": ".py",
   "mimetype": "text/x-python",
   "name": "python",
   "nbconvert_exporter": "python",
   "pygments_lexer": "ipython3",
   "version": "3.7.0"
  }
 },
 "nbformat": 4,
 "nbformat_minor": 5
}
