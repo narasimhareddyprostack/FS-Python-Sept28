{
 "cells": [
  {
   "cell_type": "code",
   "execution_count": 1,
   "id": "850efc32",
   "metadata": {},
   "outputs": [
    {
     "name": "stdout",
     "output_type": "stream",
     "text": [
      "8\n"
     ]
    }
   ],
   "source": [
    "#read operation\n",
    "\n",
    "#index()\n",
    "#count()\n",
    "\n",
    "#len()  - returns number of elements present in list object\n",
    "enames=['rahul','sonia','priya','modi','modi','rahul','sonia','sonia']\n",
    "\n",
    "print(len(enames))\n",
    "\n",
    "\n"
   ]
  },
  {
   "cell_type": "code",
   "execution_count": 2,
   "id": "3b200495",
   "metadata": {},
   "outputs": [
    {
     "name": "stdout",
     "output_type": "stream",
     "text": [
      "2\n"
     ]
    }
   ],
   "source": [
    "enames=['rahul','sonia','priya','modi','modi','rahul','sonia','sonia']\n",
    "#count() - return the number of occurances of specified item\n",
    "\n",
    "print(enames.count('rahul'))"
   ]
  },
  {
   "cell_type": "code",
   "execution_count": 3,
   "id": "713c0282",
   "metadata": {},
   "outputs": [
    {
     "name": "stdout",
     "output_type": "stream",
     "text": [
      "2\n"
     ]
    }
   ],
   "source": [
    "enames=['rahul','sonia','priya','modi','modi','rahul','sonia','sonia']\n",
    "#index   0           1    2      3          4   5       6            7\n",
    "\n",
    "#index() - return the index value of first occurance of specifed item,\n",
    "\n",
    "print(enames.index('priya'))\n"
   ]
  },
  {
   "cell_type": "code",
   "execution_count": null,
   "id": "be085626",
   "metadata": {},
   "outputs": [],
   "source": []
  }
 ],
 "metadata": {
  "kernelspec": {
   "display_name": "Python 3 (ipykernel)",
   "language": "python",
   "name": "python3"
  },
  "language_info": {
   "codemirror_mode": {
    "name": "ipython",
    "version": 3
   },
   "file_extension": ".py",
   "mimetype": "text/x-python",
   "name": "python",
   "nbconvert_exporter": "python",
   "pygments_lexer": "ipython3",
   "version": "3.7.0"
  }
 },
 "nbformat": 4,
 "nbformat_minor": 5
}
