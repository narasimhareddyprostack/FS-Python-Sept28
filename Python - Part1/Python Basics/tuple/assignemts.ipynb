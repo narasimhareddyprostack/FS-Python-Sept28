{
 "cells": [
  {
   "cell_type": "code",
   "execution_count": 1,
   "id": "67d6a852",
   "metadata": {},
   "outputs": [
    {
     "name": "stdout",
     "output_type": "stream",
     "text": [
      "Enter Stringhello\n",
      "h\n",
      "e\n",
      "l\n",
      "l\n",
      "o\n"
     ]
    }
   ],
   "source": [
    "str=input(\"Enter String\")\n",
    "#print number vowel in given string\n",
    "\n",
    "vowels=['a','e','i','o','u']\n",
    "\n",
    "for char in str:\n",
    "    if char in vowels:"
   ]
  },
  {
   "cell_type": "code",
   "execution_count": null,
   "id": "425d48de",
   "metadata": {},
   "outputs": [],
   "source": []
  }
 ],
 "metadata": {
  "kernelspec": {
   "display_name": "Python 3 (ipykernel)",
   "language": "python",
   "name": "python3"
  },
  "language_info": {
   "codemirror_mode": {
    "name": "ipython",
    "version": 3
   },
   "file_extension": ".py",
   "mimetype": "text/x-python",
   "name": "python",
   "nbconvert_exporter": "python",
   "pygments_lexer": "ipython3",
   "version": "3.7.0"
  }
 },
 "nbformat": 4,
 "nbformat_minor": 5
}
