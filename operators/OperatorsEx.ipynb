{
 "cells": [
  {
   "cell_type": "code",
   "execution_count": 2,
   "id": "04f7f80c",
   "metadata": {},
   "outputs": [
    {
     "name": "stdout",
     "output_type": "stream",
     "text": [
      "105\n",
      "95\n",
      "500\n",
      "20.0\n",
      "20\n",
      "0\n",
      "10000000000\n"
     ]
    }
   ],
   "source": [
    "a=100\n",
    "b=5\n",
    "\n",
    "print(a+b)  #105\n",
    "print(a-b)  #95\n",
    "print(a*b)  #500\n",
    "print(a/b)  #20.0\n",
    "print(a//b) #20\n",
    "print(a%b)  #0\n",
    "print(a**b) "
   ]
  },
  {
   "cell_type": "code",
   "execution_count": 3,
   "id": "6c3f39f3",
   "metadata": {},
   "outputs": [
    {
     "name": "stdout",
     "output_type": "stream",
     "text": [
      "8\n"
     ]
    }
   ],
   "source": [
    "print(2**3)"
   ]
  },
  {
   "cell_type": "code",
   "execution_count": 4,
   "id": "3b6d4d29",
   "metadata": {},
   "outputs": [
    {
     "name": "stdout",
     "output_type": "stream",
     "text": [
      "125\n"
     ]
    }
   ],
   "source": [
    "print(5**3)"
   ]
  },
  {
   "cell_type": "code",
   "execution_count": 5,
   "id": "f26d2575",
   "metadata": {},
   "outputs": [
    {
     "name": "stdout",
     "output_type": "stream",
     "text": [
      "2.0\n",
      "2\n"
     ]
    }
   ],
   "source": [
    "#what is division /       -  division operator always perform float point arithmatic \n",
    "#what is floor division // - integral arithmatic & floating\n",
    "\n",
    "print(10/5)   #2.0\n",
    "print(10//5)  #2"
   ]
  },
  {
   "cell_type": "code",
   "execution_count": 6,
   "id": "e9743e90",
   "metadata": {},
   "outputs": [
    {
     "name": "stdout",
     "output_type": "stream",
     "text": [
      "2.0\n",
      "5.0\n",
      "2\n",
      "5.0\n"
     ]
    }
   ],
   "source": [
    "a=10\n",
    "b=5\n",
    "c=2.0\n",
    "\n",
    "print(a/b)  #2.0\n",
    "print(a/c)  #5.0\n",
    "\n",
    "print(a//b) #2\n",
    "print(a//c) #5.0"
   ]
  },
  {
   "cell_type": "code",
   "execution_count": 7,
   "id": "4825b4e0",
   "metadata": {},
   "outputs": [
    {
     "name": "stdout",
     "output_type": "stream",
     "text": [
      "6\n",
      "TenTenTen\n"
     ]
    }
   ],
   "source": [
    "# * \n",
    "\n",
    "print(2*3)  #6\n",
    "print(\"Ten\" * 3) #TenTenTen\n"
   ]
  },
  {
   "cell_type": "code",
   "execution_count": 8,
   "id": "85af5748",
   "metadata": {},
   "outputs": [
    {
     "name": "stdout",
     "output_type": "stream",
     "text": [
      "1000\n",
      "Rahul GandhiRahul GandhiRahul GandhiRahul Gandhi\n"
     ]
    },
    {
     "ename": "TypeError",
     "evalue": "can't multiply sequence by non-int of type 'str'",
     "output_type": "error",
     "traceback": [
      "\u001b[1;31m---------------------------------------------------------------------------\u001b[0m",
      "\u001b[1;31mTypeError\u001b[0m                                 Traceback (most recent call last)",
      "\u001b[1;32m~\\AppData\\Local\\Temp\\ipykernel_3580\\3480960248.py\u001b[0m in \u001b[0;36m<module>\u001b[1;34m\u001b[0m\n\u001b[0;32m      5\u001b[0m \u001b[0mprint\u001b[0m\u001b[1;33m(\u001b[0m\u001b[0mename\u001b[0m \u001b[1;33m*\u001b[0m \u001b[1;36m4\u001b[0m\u001b[1;33m)\u001b[0m \u001b[1;31m#repeteration\u001b[0m\u001b[1;33m\u001b[0m\u001b[0m\n\u001b[0;32m      6\u001b[0m \u001b[1;33m\u001b[0m\u001b[0m\n\u001b[1;32m----> 7\u001b[1;33m \u001b[0mprint\u001b[0m\u001b[1;33m(\u001b[0m\u001b[0mename\u001b[0m \u001b[1;33m*\u001b[0m \u001b[1;34m\"Prime Minister\"\u001b[0m\u001b[1;33m)\u001b[0m\u001b[1;33m\u001b[0m\u001b[0m\n\u001b[0m",
      "\u001b[1;31mTypeError\u001b[0m: can't multiply sequence by non-int of type 'str'"
     ]
    }
   ],
   "source": [
    "a = 10\n",
    "ename = \"Rahul Gandhi\"\n",
    "\n",
    "print(a * 100)   #multiplication\n",
    "print(ename * 4) #repeteration\n",
    "\n",
    "print(ename * \"Prime Minister\")"
   ]
  },
  {
   "cell_type": "code",
   "execution_count": 9,
   "id": "43508380",
   "metadata": {},
   "outputs": [
    {
     "name": "stdout",
     "output_type": "stream",
     "text": [
      "1000\n",
      "Rahul GandhiRahul GandhiRahul GandhiRahul Gandhi\n"
     ]
    }
   ],
   "source": [
    "a = 10\n",
    "ename = \"Rahul Gandhi\"\n",
    "\n",
    "print(a * 100)   #multiplication\n",
    "print(ename * 4) #repeteration\n",
    "\n",
    "#print(ename * \"Prime Minister\")"
   ]
  },
  {
   "cell_type": "code",
   "execution_count": 12,
   "id": "8fc43a20",
   "metadata": {},
   "outputs": [
    {
     "name": "stdout",
     "output_type": "stream",
     "text": [
      "10\n",
      "False\n",
      "True\n",
      "False\n"
     ]
    }
   ],
   "source": [
    "\n",
    "print(100 and 10)\n",
    "\n",
    "print(100 < 10 )\n",
    "\n",
    "print(100 >=100)\n",
    "\n",
    "print(True and False)"
   ]
  },
  {
   "cell_type": "code",
   "execution_count": 14,
   "id": "400fe978",
   "metadata": {},
   "outputs": [
    {
     "name": "stdout",
     "output_type": "stream",
     "text": [
      "0\n"
     ]
    }
   ],
   "source": [
    "print(0 and 10)"
   ]
  },
  {
   "cell_type": "code",
   "execution_count": 15,
   "id": "b867ca28",
   "metadata": {},
   "outputs": [
    {
     "name": "stdout",
     "output_type": "stream",
     "text": [
      "True\n"
     ]
    }
   ],
   "source": [
    "print(True > False)"
   ]
  },
  {
   "cell_type": "code",
   "execution_count": null,
   "id": "e3b69c61",
   "metadata": {},
   "outputs": [],
   "source": []
  }
 ],
 "metadata": {
  "kernelspec": {
   "display_name": "Python 3 (ipykernel)",
   "language": "python",
   "name": "python3"
  },
  "language_info": {
   "codemirror_mode": {
    "name": "ipython",
    "version": 3
   },
   "file_extension": ".py",
   "mimetype": "text/x-python",
   "name": "python",
   "nbconvert_exporter": "python",
   "pygments_lexer": "ipython3",
   "version": "3.7.0"
  }
 },
 "nbformat": 4,
 "nbformat_minor": 5
}
