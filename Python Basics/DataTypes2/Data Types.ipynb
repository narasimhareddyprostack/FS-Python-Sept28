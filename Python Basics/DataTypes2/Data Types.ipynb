{
 "cells": [
  {
   "cell_type": "code",
   "execution_count": 1,
   "id": "29e7c4de",
   "metadata": {},
   "outputs": [
    {
     "name": "stdout",
     "output_type": "stream",
     "text": [
      "True\n"
     ]
    }
   ],
   "source": [
    "#how to represent bool type\n",
    "\n",
    "print(bool(True))"
   ]
  },
  {
   "cell_type": "code",
   "execution_count": 2,
   "id": "c92da1a1",
   "metadata": {},
   "outputs": [
    {
     "name": "stdout",
     "output_type": "stream",
     "text": [
      "False\n"
     ]
    }
   ],
   "source": [
    "print(bool(0))"
   ]
  },
  {
   "cell_type": "code",
   "execution_count": 3,
   "id": "96aa37d4",
   "metadata": {},
   "outputs": [
    {
     "name": "stdout",
     "output_type": "stream",
     "text": [
      "True\n",
      "False\n",
      "True\n",
      "True\n",
      "True\n",
      "False\n"
     ]
    }
   ],
   "source": [
    "print(bool(100))           #True  - non zero  \n",
    "print(bool(0))             #False - zero\n",
    "print(bool(\"True\"))        #True\n",
    "print(bool(\"False\"))       #Trye\n",
    "print(bool(549.90))        #True\n",
    "print(bool(00.00))         #False"
   ]
  },
  {
   "cell_type": "code",
   "execution_count": 4,
   "id": "772a693b",
   "metadata": {},
   "outputs": [
    {
     "name": "stdout",
     "output_type": "stream",
     "text": [
      "False\n"
     ]
    }
   ],
   "source": [
    "print(bool(\"\"))"
   ]
  },
  {
   "cell_type": "code",
   "execution_count": 5,
   "id": "fa36b2d4",
   "metadata": {},
   "outputs": [
    {
     "name": "stdout",
     "output_type": "stream",
     "text": [
      "False\n",
      "True\n"
     ]
    }
   ],
   "source": [
    "print(bool(\"\"))\n",
    "print(bool(\"Salman Khan\"))"
   ]
  },
  {
   "cell_type": "code",
   "execution_count": 7,
   "id": "151a103e",
   "metadata": {},
   "outputs": [
    {
     "name": "stdout",
     "output_type": "stream",
     "text": [
      "bytearray(b' ,-Y\\xfe')\n"
     ]
    }
   ],
   "source": [
    "#mutable object\n",
    "#list, set,dict, bytearray\n",
    "\n",
    "\n",
    "#how to create- bytearray\n",
    "#group of values in between 0 to 255\n",
    "list=[32,44,45,89,254]\n",
    "\n",
    "ba=bytearray(list)\n",
    "\n",
    "print(ba)"
   ]
  },
  {
   "cell_type": "code",
   "execution_count": 9,
   "id": "da79d84e",
   "metadata": {},
   "outputs": [
    {
     "name": "stdout",
     "output_type": "stream",
     "text": [
      "32\n",
      "44\n",
      "45\n",
      "89\n",
      "254\n"
     ]
    }
   ],
   "source": [
    "list=[32,44,45,89,254]\n",
    "\n",
    "ba=bytearray(list)\n",
    "for value in ba:\n",
    "    print(value)\n",
    "#print(ba)"
   ]
  },
  {
   "cell_type": "code",
   "execution_count": 10,
   "id": "60f70ab2",
   "metadata": {},
   "outputs": [
    {
     "name": "stdout",
     "output_type": "stream",
     "text": [
      "23\n",
      "44\n",
      "45\n",
      "89\n",
      "254\n"
     ]
    }
   ],
   "source": [
    "list=[32,44,45,89,254]\n",
    "\n",
    "ba=bytearray(list)\n",
    "\n",
    "ba[0] =23\n",
    "\n",
    "for value in ba:\n",
    "    print(value)"
   ]
  },
  {
   "cell_type": "code",
   "execution_count": 11,
   "id": "f9950f76",
   "metadata": {},
   "outputs": [
    {
     "ename": "TypeError",
     "evalue": "'bytes' object does not support item assignment",
     "output_type": "error",
     "traceback": [
      "\u001b[1;31m---------------------------------------------------------------------------\u001b[0m",
      "\u001b[1;31mTypeError\u001b[0m                                 Traceback (most recent call last)",
      "\u001b[1;32m~\\AppData\\Local\\Temp\\ipykernel_26192\\1518023488.py\u001b[0m in \u001b[0;36m<module>\u001b[1;34m\u001b[0m\n\u001b[0;32m      3\u001b[0m \u001b[0mb\u001b[0m\u001b[1;33m=\u001b[0m\u001b[0mbytes\u001b[0m\u001b[1;33m(\u001b[0m\u001b[0mlist\u001b[0m\u001b[1;33m)\u001b[0m\u001b[1;33m\u001b[0m\u001b[0m\n\u001b[0;32m      4\u001b[0m \u001b[1;33m\u001b[0m\u001b[0m\n\u001b[1;32m----> 5\u001b[1;33m \u001b[0mb\u001b[0m\u001b[1;33m[\u001b[0m\u001b[1;36m0\u001b[0m\u001b[1;33m]\u001b[0m \u001b[1;33m=\u001b[0m\u001b[1;36m23\u001b[0m\u001b[1;33m\u001b[0m\u001b[0m\n\u001b[0m\u001b[0;32m      6\u001b[0m \u001b[1;33m\u001b[0m\u001b[0m\n\u001b[0;32m      7\u001b[0m \u001b[1;32mfor\u001b[0m \u001b[0mvalue\u001b[0m \u001b[1;32min\u001b[0m \u001b[0mba\u001b[0m\u001b[1;33m:\u001b[0m\u001b[1;33m\u001b[0m\u001b[0m\n",
      "\u001b[1;31mTypeError\u001b[0m: 'bytes' object does not support item assignment"
     ]
    }
   ],
   "source": [
    "list=[32,44,45,89,254]\n",
    "\n",
    "b=bytes(list)\n",
    "\n",
    "b[0] =23\n",
    "\n",
    "for value in ba:\n",
    "    print(value)"
   ]
  },
  {
   "cell_type": "code",
   "execution_count": null,
   "id": "ad30ae3b",
   "metadata": {},
   "outputs": [],
   "source": []
  }
 ],
 "metadata": {
  "kernelspec": {
   "display_name": "Python 3 (ipykernel)",
   "language": "python",
   "name": "python3"
  },
  "language_info": {
   "codemirror_mode": {
    "name": "ipython",
    "version": 3
   },
   "file_extension": ".py",
   "mimetype": "text/x-python",
   "name": "python",
   "nbconvert_exporter": "python",
   "pygments_lexer": "ipython3",
   "version": "3.7.0"
  }
 },
 "nbformat": 4,
 "nbformat_minor": 5
}
