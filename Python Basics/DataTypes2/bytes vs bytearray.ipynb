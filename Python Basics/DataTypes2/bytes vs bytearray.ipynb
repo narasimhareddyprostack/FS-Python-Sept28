{
 "cells": [
  {
   "cell_type": "code",
   "execution_count": 1,
   "id": "f338ecdb",
   "metadata": {},
   "outputs": [
    {
     "name": "stdout",
     "output_type": "stream",
     "text": [
      "b'\\n\"8Y\\xc8\\xff'\n",
      "bytearray(b'\\n\"8Y\\xc8\\xff')\n"
     ]
    }
   ],
   "source": [
    "#what is bytes - datatypes\n",
    "#what is bytearray - datatype:\n",
    "\n",
    "#represent - group of values in between 0 - 255.\n",
    "b =bytes([10,34,56,89,200,255])\n",
    "ba=bytearray([10,34,56,89,200,255])\n",
    "\n",
    "print(b)\n",
    "print(ba)"
   ]
  },
  {
   "cell_type": "code",
   "execution_count": 2,
   "id": "d01dfcd0",
   "metadata": {},
   "outputs": [
    {
     "ename": "ValueError",
     "evalue": "bytes must be in range(0, 256)",
     "output_type": "error",
     "traceback": [
      "\u001b[1;31m---------------------------------------------------------------------------\u001b[0m",
      "\u001b[1;31mValueError\u001b[0m                                Traceback (most recent call last)",
      "\u001b[1;32m~\\AppData\\Local\\Temp\\ipykernel_14808\\1020804525.py\u001b[0m in \u001b[0;36m<module>\u001b[1;34m\u001b[0m\n\u001b[1;32m----> 1\u001b[1;33m \u001b[0mb\u001b[0m \u001b[1;33m=\u001b[0m\u001b[0mbytes\u001b[0m\u001b[1;33m(\u001b[0m\u001b[1;33m[\u001b[0m\u001b[1;36m10\u001b[0m\u001b[1;33m,\u001b[0m\u001b[1;36m34\u001b[0m\u001b[1;33m,\u001b[0m\u001b[1;36m56\u001b[0m\u001b[1;33m,\u001b[0m\u001b[1;36m89\u001b[0m\u001b[1;33m,\u001b[0m\u001b[1;36m200\u001b[0m\u001b[1;33m,\u001b[0m\u001b[1;36m255\u001b[0m\u001b[1;33m,\u001b[0m\u001b[1;36m567\u001b[0m\u001b[1;33m]\u001b[0m\u001b[1;33m)\u001b[0m\u001b[1;33m\u001b[0m\u001b[0m\n\u001b[0m\u001b[0;32m      2\u001b[0m \u001b[0mba\u001b[0m\u001b[1;33m=\u001b[0m\u001b[0mbytearray\u001b[0m\u001b[1;33m(\u001b[0m\u001b[1;33m[\u001b[0m\u001b[1;36m10\u001b[0m\u001b[1;33m,\u001b[0m\u001b[1;36m34\u001b[0m\u001b[1;33m,\u001b[0m\u001b[1;36m56\u001b[0m\u001b[1;33m,\u001b[0m\u001b[1;36m89\u001b[0m\u001b[1;33m,\u001b[0m\u001b[1;36m200\u001b[0m\u001b[1;33m,\u001b[0m\u001b[1;36m255\u001b[0m\u001b[1;33m,\u001b[0m\u001b[1;36m567\u001b[0m\u001b[1;33m]\u001b[0m\u001b[1;33m)\u001b[0m\u001b[1;33m\u001b[0m\u001b[0m\n\u001b[0;32m      3\u001b[0m \u001b[1;33m\u001b[0m\u001b[0m\n\u001b[0;32m      4\u001b[0m \u001b[0mprint\u001b[0m\u001b[1;33m(\u001b[0m\u001b[0mb\u001b[0m\u001b[1;33m)\u001b[0m\u001b[1;33m\u001b[0m\u001b[0m\n\u001b[0;32m      5\u001b[0m \u001b[0mprint\u001b[0m\u001b[1;33m(\u001b[0m\u001b[0mba\u001b[0m\u001b[1;33m)\u001b[0m\u001b[1;33m\u001b[0m\u001b[0m\n",
      "\u001b[1;31mValueError\u001b[0m: bytes must be in range(0, 256)"
     ]
    }
   ],
   "source": [
    "b =bytes([10,34,56,89,200,255,567])\n",
    "ba=bytearray([10,34,56,89,200,255,567])\n",
    "\n",
    "print(b)\n",
    "print(ba)"
   ]
  },
  {
   "cell_type": "code",
   "execution_count": 5,
   "id": "d4b30ba5",
   "metadata": {},
   "outputs": [
    {
     "name": "stdout",
     "output_type": "stream",
     "text": [
      "b'\\n\"8Y\\xc8\\xff'\n",
      "bytearray(b'\\n\"8Y\\xc8\\xff')\n"
     ]
    },
    {
     "ename": "TypeError",
     "evalue": "'bytes' object does not support item assignment",
     "output_type": "error",
     "traceback": [
      "\u001b[1;31m---------------------------------------------------------------------------\u001b[0m",
      "\u001b[1;31mTypeError\u001b[0m                                 Traceback (most recent call last)",
      "\u001b[1;32m~\\AppData\\Local\\Temp\\ipykernel_14808\\357551148.py\u001b[0m in \u001b[0;36m<module>\u001b[1;34m\u001b[0m\n\u001b[0;32m     10\u001b[0m \u001b[0mprint\u001b[0m\u001b[1;33m(\u001b[0m\u001b[0mba\u001b[0m\u001b[1;33m)\u001b[0m\u001b[1;33m\u001b[0m\u001b[0m\n\u001b[0;32m     11\u001b[0m \u001b[1;33m\u001b[0m\u001b[0m\n\u001b[1;32m---> 12\u001b[1;33m \u001b[0mb\u001b[0m\u001b[1;33m[\u001b[0m\u001b[1;36m0\u001b[0m\u001b[1;33m]\u001b[0m \u001b[1;33m=\u001b[0m \u001b[1;36m100\u001b[0m  \u001b[1;31m#\u001b[0m\u001b[1;33m\u001b[0m\u001b[0m\n\u001b[0m\u001b[0;32m     13\u001b[0m \u001b[0mba\u001b[0m\u001b[1;33m[\u001b[0m\u001b[1;36m0\u001b[0m\u001b[1;33m]\u001b[0m\u001b[1;33m=\u001b[0m\u001b[1;36m100\u001b[0m\u001b[1;33m\u001b[0m\u001b[0m\n\u001b[0;32m     14\u001b[0m \u001b[1;33m\u001b[0m\u001b[0m\n",
      "\u001b[1;31mTypeError\u001b[0m: 'bytes' object does not support item assignment"
     ]
    }
   ],
   "source": [
    "#bytes must be in range(0, 256)\n",
    "#bytearray must be in range(0, 256)\n",
    "\n",
    "#immutability vs mutability - bytes and bytearray\n",
    "\n",
    "b =bytes([10,34,56,89,200,255])\n",
    "ba=bytearray([10,34,56,89,200,255])\n",
    "\n",
    "print(b)\n",
    "print(ba)\n",
    "\n",
    "b[0] = 100  #\n",
    "ba[0]=100\n",
    "\n",
    "print(b)\n",
    "print(ba)"
   ]
  },
  {
   "cell_type": "code",
   "execution_count": 7,
   "id": "d0f0cc8c",
   "metadata": {},
   "outputs": [
    {
     "name": "stdout",
     "output_type": "stream",
     "text": [
      "b'\\n\"8Y\\xc8\\xff'\n",
      "bytearray(b'\\n\"8Y\\xc8\\xff')\n",
      "b'\\n\"8Y\\xc8\\xff'\n",
      "bytearray(b'd\"8Y\\xc8\\xff')\n",
      "100\n",
      "34\n",
      "56\n",
      "89\n",
      "200\n",
      "255\n"
     ]
    }
   ],
   "source": [
    "\n",
    "b =bytes([10,34,56,89,200,255])\n",
    "ba=bytearray([10,34,56,89,200,255])\n",
    "\n",
    "print(b)\n",
    "print(ba)\n",
    "\n",
    "#b[0] = 100  #\n",
    "ba[0]=100\n",
    "\n",
    "print(b)\n",
    "print(ba)\n",
    "\n",
    "for value in ba:\n",
    "    print(value)"
   ]
  },
  {
   "cell_type": "code",
   "execution_count": 8,
   "id": "96f406e4",
   "metadata": {},
   "outputs": [
    {
     "name": "stdout",
     "output_type": "stream",
     "text": [
      "b'\\n\"8Y\\xc8\\xff'\n",
      "bytearray(b'\\n\"8Y\\xc8\\xff')\n",
      "b'\\n\"8Y\\xc8\\xff'\n",
      "bytearray(b'd\"8Y\\xc8\\xff')\n",
      "10\n",
      "34\n",
      "56\n",
      "89\n",
      "200\n",
      "255\n"
     ]
    }
   ],
   "source": [
    "\n",
    "b =bytes([10,34,56,89,200,255])\n",
    "ba=bytearray([10,34,56,89,200,255])\n",
    "\n",
    "print(b)\n",
    "print(ba)\n",
    "\n",
    "#b[0] = 100  #\n",
    "ba[0]=100\n",
    "\n",
    "print(b)\n",
    "print(ba)\n",
    "\n",
    "for value in b:\n",
    "    print(value)"
   ]
  },
  {
   "cell_type": "code",
   "execution_count": 9,
   "id": "667d70ed",
   "metadata": {},
   "outputs": [
    {
     "name": "stdout",
     "output_type": "stream",
     "text": [
      "None\n"
     ]
    }
   ],
   "source": [
    "#all types\n",
    "\n",
    "v1 = 100 \n",
    "v2 = 100.00\n",
    "v3 = \"Rahul\"\n",
    "v4 = 10+5j\n",
    "v5=  True \n",
    "\n",
    "v6 = [] \n",
    "v7 = ()  \n",
    "v8 = {10,20}\n",
    "v9 = {}\n",
    "v10 = bytes([10,20,30,40])\n",
    "v11 = bytearray([10,20,30,40])\n",
    "\n",
    "v12 = frozenset({10,20,30,40})\n",
    "v13 = range(10)\n",
    "\n",
    "\n",
    "def get_Details():\n",
    "    pass\n",
    "\n",
    "v14 = get_Details()\n",
    "print(v14)\n"
   ]
  },
  {
   "cell_type": "code",
   "execution_count": null,
   "id": "8ae063fd",
   "metadata": {},
   "outputs": [],
   "source": []
  }
 ],
 "metadata": {
  "kernelspec": {
   "display_name": "Python 3 (ipykernel)",
   "language": "python",
   "name": "python3"
  },
  "language_info": {
   "codemirror_mode": {
    "name": "ipython",
    "version": 3
   },
   "file_extension": ".py",
   "mimetype": "text/x-python",
   "name": "python",
   "nbconvert_exporter": "python",
   "pygments_lexer": "ipython3",
   "version": "3.7.0"
  }
 },
 "nbformat": 4,
 "nbformat_minor": 5
}
