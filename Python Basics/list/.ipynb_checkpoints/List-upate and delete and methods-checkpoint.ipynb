{
 "cells": [
  {
   "cell_type": "code",
   "execution_count": 1,
   "id": "42d08407",
   "metadata": {},
   "outputs": [
    {
     "name": "stdout",
     "output_type": "stream",
     "text": [
      "[101, 102, 103, 104, 105]\n"
     ]
    }
   ],
   "source": [
    "ids=[101,102,103,104]\n",
    "#add element to list\n",
    "ids.append(105)\n",
    "\n",
    "#what is append() - list function/method to add element to end of the list\n",
    "\n",
    "print(ids)"
   ]
  },
  {
   "cell_type": "code",
   "execution_count": 2,
   "id": "259dd92f",
   "metadata": {},
   "outputs": [
    {
     "name": "stdout",
     "output_type": "stream",
     "text": [
      "[101, 102, 103, 108, 104]\n"
     ]
    }
   ],
   "source": [
    "#insert()\n",
    "ids=[101,102,103,104]\n",
    "\n",
    "ids.insert(3,108)\n",
    "print(ids)"
   ]
  },
  {
   "cell_type": "code",
   "execution_count": 3,
   "id": "84ba0cc9",
   "metadata": {},
   "outputs": [
    {
     "name": "stdout",
     "output_type": "stream",
     "text": [
      "['rahul', 'sonia', 'priyanka', 'modi']\n"
     ]
    }
   ],
   "source": [
    "#append() vs insert() vs extend()\n",
    "\n",
    "\n",
    "enames=['rahul','sonia','priyanka']\n",
    "#index    0        1        2\n",
    "enames.append('modi')\n",
    "print(enames)\n",
    "\n"
   ]
  },
  {
   "cell_type": "code",
   "execution_count": 4,
   "id": "c0892086",
   "metadata": {},
   "outputs": [
    {
     "name": "stdout",
     "output_type": "stream",
     "text": [
      "['rahul', 'amith shaw', 'sonia', 'priyanka']\n"
     ]
    }
   ],
   "source": [
    "enames=['rahul','sonia','priyanka']\n",
    "#index    0        1        2\n",
    "\n",
    "enames.insert(1,'amith shaw')\n",
    "print(enames)"
   ]
  },
  {
   "cell_type": "code",
   "execution_count": 5,
   "id": "d3e0f2aa",
   "metadata": {},
   "outputs": [
    {
     "name": "stdout",
     "output_type": "stream",
     "text": [
      "['rahul', 'sonia', 'priyanka', 'nagaraj', 'madhi', 'hishol']\n"
     ]
    }
   ],
   "source": [
    "enames=['rahul','sonia','priyanka']\n",
    "new_names=['nagaraj','madhi','hishol']\n",
    "\n",
    "enames.extend(new_names)\n",
    "\n",
    "print(enames)"
   ]
  },
  {
   "cell_type": "code",
   "execution_count": 7,
   "id": "1febdb10",
   "metadata": {},
   "outputs": [
    {
     "name": "stdout",
     "output_type": "stream",
     "text": [
      "['rahul', 'sonia', 'priyanka', 's', 'h', 'i', 'b', 'a', 'n', 'i']\n"
     ]
    }
   ],
   "source": [
    "enames=['rahul','sonia','priyanka']\n",
    "enames.extend('shibani')\n",
    "print(enames)"
   ]
  },
  {
   "cell_type": "code",
   "execution_count": 8,
   "id": "0b4a51e2",
   "metadata": {},
   "outputs": [
    {
     "name": "stdout",
     "output_type": "stream",
     "text": [
      "['rahul', 'sonia', 'priyanka', 10, 20, 30]\n"
     ]
    }
   ],
   "source": [
    "enames=['rahul','sonia','priyanka']\n",
    "enames.extend((10,20,30))\n",
    "print(enames)"
   ]
  },
  {
   "cell_type": "code",
   "execution_count": 9,
   "id": "fe8f02fd",
   "metadata": {},
   "outputs": [
    {
     "ename": "NameError",
     "evalue": "name 'element' is not defined",
     "output_type": "error",
     "traceback": [
      "\u001b[1;31m---------------------------------------------------------------------------\u001b[0m",
      "\u001b[1;31mNameError\u001b[0m                                 Traceback (most recent call last)",
      "\u001b[1;32m~\\AppData\\Local\\Temp\\ipykernel_1644\\1751238719.py\u001b[0m in \u001b[0;36m<module>\u001b[1;34m\u001b[0m\n\u001b[1;32m----> 1\u001b[1;33m \u001b[0mlist\u001b[0m\u001b[1;33m.\u001b[0m\u001b[0mappend\u001b[0m\u001b[1;33m(\u001b[0m\u001b[0melement\u001b[0m\u001b[1;33m)\u001b[0m\u001b[1;33m\u001b[0m\u001b[0m\n\u001b[0m\u001b[0;32m      2\u001b[0m \u001b[0mlist\u001b[0m\u001b[1;33m.\u001b[0m\u001b[0minsert\u001b[0m\u001b[1;33m(\u001b[0m\u001b[0mindex\u001b[0m\u001b[1;33m,\u001b[0m\u001b[0melement\u001b[0m\u001b[1;33m)\u001b[0m\u001b[1;33m\u001b[0m\u001b[0m\n\u001b[0;32m      3\u001b[0m \u001b[0mlist\u001b[0m\u001b[1;33m.\u001b[0m\u001b[0mextend\u001b[0m\u001b[1;33m(\u001b[0m\u001b[0msequence\u001b[0m\u001b[1;33m)\u001b[0m\u001b[1;33m\u001b[0m\u001b[0m\n",
      "\u001b[1;31mNameError\u001b[0m: name 'element' is not defined"
     ]
    }
   ],
   "source": [
    "list.append(element)\n",
    "list.insert(index,element)\n",
    "list.extend(sequence)\n"
   ]
  },
  {
   "cell_type": "code",
   "execution_count": 11,
   "id": "cb9aa8db",
   "metadata": {},
   "outputs": [
    {
     "name": "stdout",
     "output_type": "stream",
     "text": [
      "['rahul', 'sonia', 'priyanka', 'nagaraj', 'madhi']\n",
      "hishol\n"
     ]
    }
   ],
   "source": [
    "names=['rahul', 'sonia', 'priyanka', 'nagaraj', 'madhi', 'hishol']\n",
    "\n",
    "value = names.pop()\n",
    "print(names)\n",
    "print(value)"
   ]
  },
  {
   "cell_type": "code",
   "execution_count": 12,
   "id": "cb7e993a",
   "metadata": {},
   "outputs": [
    {
     "name": "stdout",
     "output_type": "stream",
     "text": [
      "['rahul', 'priyanka', 'nagaraj', 'madhu', 'hishok']\n"
     ]
    }
   ],
   "source": [
    "names=['rahul', 'sonia', 'priyanka', 'nagaraj', 'madhu', 'hishok']\n",
    "names.remove('sonia')\n",
    "print(names)"
   ]
  },
  {
   "cell_type": "code",
   "execution_count": 13,
   "id": "10ec4209",
   "metadata": {},
   "outputs": [
    {
     "ename": "ValueError",
     "evalue": "list.remove(x): x not in list",
     "output_type": "error",
     "traceback": [
      "\u001b[1;31m---------------------------------------------------------------------------\u001b[0m",
      "\u001b[1;31mValueError\u001b[0m                                Traceback (most recent call last)",
      "\u001b[1;32m~\\AppData\\Local\\Temp\\ipykernel_1644\\2719372512.py\u001b[0m in \u001b[0;36m<module>\u001b[1;34m\u001b[0m\n\u001b[0;32m      1\u001b[0m \u001b[0mnames\u001b[0m\u001b[1;33m=\u001b[0m\u001b[1;33m[\u001b[0m\u001b[1;34m'rahul'\u001b[0m\u001b[1;33m,\u001b[0m \u001b[1;34m'sonia'\u001b[0m\u001b[1;33m,\u001b[0m \u001b[1;34m'priyanka'\u001b[0m\u001b[1;33m,\u001b[0m \u001b[1;34m'nagaraj'\u001b[0m\u001b[1;33m,\u001b[0m \u001b[1;34m'madhu'\u001b[0m\u001b[1;33m,\u001b[0m \u001b[1;34m'hishok'\u001b[0m\u001b[1;33m]\u001b[0m\u001b[1;33m\u001b[0m\u001b[0m\n\u001b[1;32m----> 2\u001b[1;33m \u001b[0mnames\u001b[0m\u001b[1;33m.\u001b[0m\u001b[0mremove\u001b[0m\u001b[1;33m(\u001b[0m\u001b[1;34m'sharuk'\u001b[0m\u001b[1;33m)\u001b[0m\u001b[1;33m\u001b[0m\u001b[0m\n\u001b[0m\u001b[0;32m      3\u001b[0m \u001b[0mprint\u001b[0m\u001b[1;33m(\u001b[0m\u001b[0mnames\u001b[0m\u001b[1;33m)\u001b[0m\u001b[1;33m\u001b[0m\u001b[0m\n",
      "\u001b[1;31mValueError\u001b[0m: list.remove(x): x not in list"
     ]
    }
   ],
   "source": [
    "names=['rahul', 'sonia', 'priyanka', 'nagaraj', 'madhu', 'hishok']\n",
    "names.remove('sharuk')\n",
    "print(names)"
   ]
  },
  {
   "cell_type": "code",
   "execution_count": null,
   "id": "0dbce48f",
   "metadata": {},
   "outputs": [],
   "source": []
  }
 ],
 "metadata": {
  "kernelspec": {
   "display_name": "Python 3 (ipykernel)",
   "language": "python",
   "name": "python3"
  },
  "language_info": {
   "codemirror_mode": {
    "name": "ipython",
    "version": 3
   },
   "file_extension": ".py",
   "mimetype": "text/x-python",
   "name": "python",
   "nbconvert_exporter": "python",
   "pygments_lexer": "ipython3",
   "version": "3.7.0"
  }
 },
 "nbformat": 4,
 "nbformat_minor": 5
}
